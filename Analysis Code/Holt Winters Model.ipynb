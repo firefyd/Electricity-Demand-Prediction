{
 "cells": [
  {
   "cell_type": "code",
   "execution_count": 1,
   "id": "b96b7f4c-bc85-4ebf-8151-b0f036eea11c",
   "metadata": {},
   "outputs": [
    {
     "name": "stderr",
     "output_type": "stream",
     "text": [
      "Importing plotly failed. Interactive plots will not work.\n"
     ]
    }
   ],
   "source": [
    "import warnings \n",
    "import holidays\n",
    "import numpy as np\n",
    "import pandas as pd\n",
    "import xgboost as xgb\n",
    "import seaborn as sns\n",
    "import statsmodels.api as sm\n",
    "import matplotlib.pyplot as plt\n",
    "import itertools\n",
    "from prophet import Prophet\n",
    "from statsmodels.tsa.stattools import adfuller\n",
    "from statsmodels.graphics.tsaplots import plot_acf, plot_pacf\n",
    "from statsmodels.tsa.stattools import adfuller, kpss\n",
    "from statsmodels.tsa.seasonal import seasonal_decompose\n",
    "from statsmodels.tsa.seasonal import seasonal_decompose\n",
    "from statsmodels.tsa.holtwinters import ExponentialSmoothing\n",
    "from statsmodels.tsa.arima.model import ARIMA\n",
    "import multiprocessing\n",
    "from joblib import Parallel, delayed\n",
    "plt.style.use('ggplot')\n",
    "\n",
    "from xgboost import XGBRegressor\n",
    "from IPython.display import display\n",
    "from matplotlib.pyplot import figure\n",
    "from sklearn.pipeline import Pipeline\n",
    "from scikeras.wrappers import KerasRegressor\n",
    "from tensorflow.keras.optimizers import Adam\n",
    "from tensorflow.keras.models import Sequential\n",
    "from sklearn.preprocessing import MinMaxScaler\n",
    "from sklearn.ensemble import RandomForestRegressor\n",
    "from tensorflow.keras.layers import Dense, Dropout\n",
    "from tensorflow.keras.callbacks import EarlyStopping\n",
    "from sklearn.metrics import mean_absolute_error, mean_squared_error, r2_score, make_scorer\n",
    "from sklearn.metrics import mean_squared_error, mean_absolute_percentage_error\n",
    "from sklearn.model_selection import RandomizedSearchCV\n",
    "from statsmodels.tsa.holtwinters import ExponentialSmoothing\n",
    "from statsmodels.stats.diagnostic import acorr_ljungbox\n",
    "from statsmodels.tsa.statespace.sarimax import SARIMAX\n",
    "from math import sqrt\n",
    "\n",
    "warnings.filterwarnings('ignore')"
   ]
  },
  {
   "cell_type": "code",
   "execution_count": null,
   "id": "a2773b88-264e-4f58-977b-522b2daab531",
   "metadata": {},
   "outputs": [],
   "source": [
    "# Holt Winters\n",
    "decomposition = seasonal_decompose(y_train, model='mul', period=24)\n",
    "fig, axs = plt.subplots(4, 1, figsize=(12, 10), sharex=True)\n",
    "decomposition.observed.plot(ax=axs[0], title='Observed')\n",
    "decomposition.trend.plot(ax=axs[1], title='Trend')\n",
    "decomposition.seasonal.plot(ax=axs[2], title='Seasonal')\n",
    "decomposition.resid.plot(ax=axs[3], title='Residual')\n",
    "plt.tight_layout()\n",
    "plt.show()"
   ]
  },
  {
   "cell_type": "code",
   "execution_count": null,
   "id": "6fd0186b-81be-4086-9ad3-8cecc678cd05",
   "metadata": {},
   "outputs": [],
   "source": [
    "model = ExponentialSmoothing(y_train, \n",
    "    trend='add',  \n",
    "    seasonal='add',\n",
    "    seasonal_periods=24,  # For hourly data\n",
    "    damped=True,  \n",
    "    initialization_method=\"estimated\"\n",
    ")\n",
    "\n",
    "\n",
    "hw_model = model.fit(optimized=True)\n",
    "predictions = hw_model.forecast(len(y_valid))"
   ]
  },
  {
   "cell_type": "code",
   "execution_count": null,
   "id": "f0ef818b-7700-4731-94e3-8a6a91f6e031",
   "metadata": {},
   "outputs": [],
   "source": [
    "# Evaluate the model\n",
    "rmse = sqrt(mean_squared_error(y_valid, predictions))\n",
    "mape = mean_absolute_percentage_error(y_valid, predictions) * 100 \n",
    "print(\"Model Evaluation Metrics:\")\n",
    "print(f\"Root Mean Squared Error (RMSE): {rmse:.2f}\")\n",
    "print(f\"Mean Absolute Percentage Error (MAPE): {mape:.2f}%\")\n",
    "\n",
    "# Plot results with error metrics in title - showing only 100 points\n",
    "plt.figure(figsize=(16, 8), dpi=100)\n",
    "\n",
    "# Get the last 100 points of predictions and validation data\n",
    "last_100_predictions = predictions[-100:]\n",
    "last_100_actual = y_valid[-100:]\n",
    "\n",
    "# Plot only these 100 points\n",
    "plt.plot(last_100_actual, label='Actual Values', color='green')\n",
    "plt.plot(last_100_predictions, label='Holt-Winters Forecast', color='blue')\n",
    "\n",
    "plt.title(f'Holt-Winters Forecast - Last 100 Points (RMSE: {rmse:.2f}, MAPE: {mape:.2f}%)')\n",
    "plt.xlabel('Date')\n",
    "plt.ylabel('Value')\n",
    "plt.legend()\n",
    "plt.tight_layout()\n",
    "plt.show()"
   ]
  },
  {
   "cell_type": "code",
   "execution_count": null,
   "id": "05279f1f-f63f-4ce8-8602-6cee527e1db6",
   "metadata": {},
   "outputs": [],
   "source": [
    "# Get model parameters\n",
    "print(\"\\nModel Parameters:\")\n",
    "print(f\"Alpha (level): {hw_model.params['smoothing_level']:.4f}\")\n",
    "print(f\"Beta (trend): {hw_model.params['smoothing_trend']:.4f}\")\n",
    "print(f\"Gamma (seasonality): {hw_model.params['smoothing_seasonal']:.4f}\")"
   ]
  },
  {
   "cell_type": "code",
   "execution_count": null,
   "id": "fd2af671-2880-45dc-9680-79ad8af26bd8",
   "metadata": {},
   "outputs": [],
   "source": [
    "plt.subplot(4, 1, 2)\n",
    "plt.plot(hw_model.level, label='Level')\n",
    "plt.legend()\n",
    "plt.title('Level Component')\n",
    "\n",
    "plt.subplot(4, 1, 3)\n",
    "plt.plot(hw_model.trend, label='Trend')\n",
    "plt.legend()\n",
    "plt.title('Trend Component')\n",
    "\n",
    "plt.subplot(4, 1, 4)\n",
    "plt.plot(hw_model.season, label='Seasonality')\n",
    "plt.legend()\n",
    "plt.title('Seasonal Component')\n",
    "\n",
    "plt.tight_layout()\n",
    "plt.show()"
   ]
  },
  {
   "cell_type": "code",
   "execution_count": null,
   "id": "12326948-b86c-4e71-9b98-979d527334e6",
   "metadata": {},
   "outputs": [],
   "source": [
    "# Calculate and plot forecast error\n",
    "plt.figure(figsize=(12, 6))\n",
    "forecast_errors = y_valid.values - predictions.values\n",
    "plt.plot(y_valid.index, forecast_errors)\n",
    "plt.axhline(y=0, color='r', linestyle='-')\n",
    "plt.title('Forecast Errors (Actual - Predicted)')\n",
    "plt.xlabel('Date')\n",
    "plt.ylabel('Error')\n",
    "plt.tight_layout()\n",
    "plt.show()\n",
    "\n",
    "# Plot error distribution\n",
    "plt.figure(figsize=(10, 6))\n",
    "plt.hist(forecast_errors, bins=30, alpha=0.7)\n",
    "plt.axvline(x=np.mean(forecast_errors), color='r', linestyle='--', label=f'Mean: {np.mean(forecast_errors):.2f}')\n",
    "plt.title('Error Distribution')\n",
    "plt.xlabel('Forecast Error')\n",
    "plt.ylabel('Frequency')\n",
    "plt.legend()\n",
    "plt.tight_layout()\n",
    "plt.show()"
   ]
  },
  {
   "cell_type": "code",
   "execution_count": null,
   "id": "46ac3544-f668-4666-811e-86965a085d26",
   "metadata": {},
   "outputs": [],
   "source": []
  },
  {
   "cell_type": "code",
   "execution_count": null,
   "id": "5ff003ce-e92d-4d43-8361-6a583401a80e",
   "metadata": {},
   "outputs": [],
   "source": []
  },
  {
   "cell_type": "code",
   "execution_count": null,
   "id": "99e0e37f-838e-4b8a-b484-0f9def2baec5",
   "metadata": {},
   "outputs": [],
   "source": []
  }
 ],
 "metadata": {
  "kernelspec": {
   "display_name": "Python 3 (ipykernel)",
   "language": "python",
   "name": "python3"
  },
  "language_info": {
   "codemirror_mode": {
    "name": "ipython",
    "version": 3
   },
   "file_extension": ".py",
   "mimetype": "text/x-python",
   "name": "python",
   "nbconvert_exporter": "python",
   "pygments_lexer": "ipython3",
   "version": "3.11.0"
  }
 },
 "nbformat": 4,
 "nbformat_minor": 5
}
